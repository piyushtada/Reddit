{
 "cells": [
  {
   "cell_type": "code",
   "execution_count": 49,
   "metadata": {},
   "outputs": [],
   "source": [
    "import json\n",
    "import pandas as pd\n",
    "from scr.mymodule.database import get_db_connection\n",
    "from scr.mymodule.processing import insert_json_data, process_files_in_folder"
   ]
  },
  {
   "cell_type": "code",
   "execution_count": null,
   "metadata": {},
   "outputs": [],
   "source": [
    "# Create a cursor object to execute SQL queries\n",
    "conn = get_db_connection(\"scr/config.ini\")\n",
    "cur = conn.cursor()\n",
    "cur.execute(\"SELECT * FROM l0_comments\")\n",
    "cur.close()\n",
    "conn.close()"
   ]
  },
  {
   "cell_type": "code",
   "execution_count": null,
   "metadata": {},
   "outputs": [],
   "source": [
    "file_name = 'data/Love_Quote.json'"
   ]
  },
  {
   "cell_type": "markdown",
   "metadata": {},
   "source": [
    "# Create a cursor object to execute SQL queries\n",
    "conn = get_db_connection(\"scr/config.ini\")\n",
    "insert_json_data(file_name, conn)"
   ]
  },
  {
   "cell_type": "code",
   "execution_count": null,
   "metadata": {},
   "outputs": [],
   "source": [
    "# input_folder = \"/Volumes/extra-boss/thesis/raw_data\"\n",
    "# output_folder = \"/Volumes/extra-boss/thesis/processed\"\n",
    "# conn = get_db_connection(\"scr/config.ini\")\n",
    "# process_files_in_folder(input_folder, output_folder, conn)"
   ]
  },
  {
   "attachments": {},
   "cell_type": "markdown",
   "metadata": {},
   "source": [
    "# Upload data for bot and moderators\n",
    "Adding data related to bot and moderators in there seprate tables"
   ]
  },
  {
   "cell_type": "code",
   "execution_count": 22,
   "metadata": {},
   "outputs": [],
   "source": [
    "import pandas as pd\n",
    "\n",
    "def convert_json_to_csv(json_path, csv_path):\n",
    "    \"\"\"Converts a JSON file with bot names to a CSV file with bot names.\n",
    "    \n",
    "    Args:\n",
    "        json_path (str): The path to the JSON file containing bot names.\n",
    "        csv_path (str): The path to the CSV file to save bot names to.\n",
    "        \n",
    "    Returns:\n",
    "        None.\n",
    "    \"\"\"\n",
    "    # Read the JSON file into a DataFrame\n",
    "    df = pd.read_json(json_path, lines=True)\n",
    "\n",
    "    # Transpose the DataFrame, reset the index, and rename the index column to \"Name\"\n",
    "    df = df.transpose().reset_index().rename(columns={\"index\": \"Name\"})\n",
    "\n",
    "    # Save only the \"Name\" column to a CSV file without the index column\n",
    "    df['Name'].to_csv(csv_path, index=False)"
   ]
  },
  {
   "cell_type": "code",
   "execution_count": 23,
   "metadata": {},
   "outputs": [],
   "source": [
    "# Call the function with the path to the JSON file and the path to the CSV file\n",
    "convert_json_to_csv('data/bots.json', 'data/bots.csv')"
   ]
  },
  {
   "attachments": {},
   "cell_type": "markdown",
   "metadata": {},
   "source": [
    "## Reading the file we created in above process"
   ]
  },
  {
   "cell_type": "code",
   "execution_count": 24,
   "metadata": {},
   "outputs": [],
   "source": [
    "def print_dataframe_info(df):\n",
    "    \"\"\"\n",
    "    Prints information about the columns of a DataFrame.\n",
    "    \n",
    "    Args:\n",
    "        df: A pandas DataFrame object\n",
    "        \n",
    "    Returns:\n",
    "        None\n",
    "    \"\"\"\n",
    "    # Print the number of columns in the DataFrame\n",
    "    print(f'Number of columns: {len(df.columns)}')\n",
    "\n",
    "    # Print the names of the columns in the DataFrame\n",
    "    print(f'Column names: {\", \".join(df.columns)}')\n",
    "\n",
    "    # Print the data type of each column in the DataFrame\n",
    "    print('Data types:')\n",
    "    print(df.dtypes)\n",
    "\n",
    "    # Print summary statistics for each column in the DataFrame\n",
    "    print('Summary statistics:')\n",
    "    print(df.describe())"
   ]
  },
  {
   "cell_type": "code",
   "execution_count": 5,
   "metadata": {},
   "outputs": [],
   "source": [
    "bots = pd.read_csv('data/bots.csv')"
   ]
  },
  {
   "cell_type": "code",
   "execution_count": 25,
   "metadata": {},
   "outputs": [
    {
     "name": "stdout",
     "output_type": "stream",
     "text": [
      "Number of columns: 1\n",
      "Column names: names\n",
      "Data types:\n",
      "names    object\n",
      "dtype: object\n",
      "Summary statistics:\n",
      "                     names\n",
      "count                63472\n",
      "unique               63472\n",
      "top     KickOpenTheDoorBot\n",
      "freq                     1\n"
     ]
    }
   ],
   "source": [
    "print_dataframe_info(bots)"
   ]
  },
  {
   "attachments": {},
   "cell_type": "markdown",
   "metadata": {},
   "source": [
    "Load data into bots postgress database"
   ]
  },
  {
   "cell_type": "code",
   "execution_count": 20,
   "metadata": {},
   "outputs": [],
   "source": [
    "# createing list to add to database\n",
    "bot_names = []\n",
    "for index, row in bots.iterrows():\n",
    "    bot_names.append(str(row['names']))\n",
    "\n",
    "\n",
    "# Create a cursor object to execute SQL queries\n",
    "conn = get_db_connection(\"scr/config.ini\")\n",
    "cur = conn.cursor()\n",
    "insert_post_query =  'INSERT INTO bots (name) VALUES (%s)'\n",
    "cur.executemany(insert_post_query, [(name,) for name in bot_names])\n",
    "conn.commit()\n",
    "cur.close()\n",
    "conn.close()"
   ]
  },
  {
   "cell_type": "code",
   "execution_count": 26,
   "metadata": {},
   "outputs": [
    {
     "name": "stdout",
     "output_type": "stream",
     "text": [
      "https://www.reddit.com/r/MomForAMinute/about/moderators.json\n"
     ]
    }
   ],
   "source": [
    "# url_moderators = 'https://www.reddit.com/r/MomForAMinute/about/moderators.json'\n",
    "subreddit = 'MomForAMinute'\n",
    "url_moderators = f'https://www.reddit.com/r/{subreddit}/about/moderators.json'\n",
    "print(url_moderators)"
   ]
  },
  {
   "attachments": {},
   "cell_type": "markdown",
   "metadata": {},
   "source": [
    "# get moderators"
   ]
  },
  {
   "cell_type": "code",
   "execution_count": 42,
   "metadata": {},
   "outputs": [],
   "source": [
    "import pandas as pd\n",
    "\n",
    "def process_json_to_df(json_data):\n",
    "    data_list = []\n",
    "    for item in json_data:\n",
    "        subreddit = item['subreddit']\n",
    "        for child in item['data']['data']['children']:\n",
    "            data = [subreddit, child['name'], child['author_flair_text'], child['date'], child['rel_id'], child['id'], child['author_flair_css_class']]\n",
    "            data_list.append(data)\n",
    "    df = pd.DataFrame(data_list, columns=[\"subreddit\", \"name\", \"author_flair_text\", \"date\", \"rel_id\", \"id\", \"author_flair_css_class\"])\n",
    "    return df\n"
   ]
  },
  {
   "cell_type": "code",
   "execution_count": 58,
   "metadata": {},
   "outputs": [
    {
     "name": "stdout",
     "output_type": "stream",
     "text": [
      "(32, 7)\n"
     ]
    },
    {
     "data": {
      "text/html": [
       "<div>\n",
       "<style scoped>\n",
       "    .dataframe tbody tr th:only-of-type {\n",
       "        vertical-align: middle;\n",
       "    }\n",
       "\n",
       "    .dataframe tbody tr th {\n",
       "        vertical-align: top;\n",
       "    }\n",
       "\n",
       "    .dataframe thead th {\n",
       "        text-align: right;\n",
       "    }\n",
       "</style>\n",
       "<table border=\"1\" class=\"dataframe\">\n",
       "  <thead>\n",
       "    <tr style=\"text-align: right;\">\n",
       "      <th></th>\n",
       "      <th>subreddit</th>\n",
       "      <th>name</th>\n",
       "      <th>author_flair_text</th>\n",
       "      <th>date</th>\n",
       "      <th>rel_id</th>\n",
       "      <th>id</th>\n",
       "      <th>author_flair_css_class</th>\n",
       "    </tr>\n",
       "  </thead>\n",
       "  <tbody>\n",
       "    <tr>\n",
       "      <th>0</th>\n",
       "      <td>MomForAMinute</td>\n",
       "      <td>closingbelle</td>\n",
       "      <td>Mother Goose Mod</td>\n",
       "      <td>1.542317e+09</td>\n",
       "      <td>rb_12k6r1s</td>\n",
       "      <td>t2_16shrg</td>\n",
       "      <td>z</td>\n",
       "    </tr>\n",
       "    <tr>\n",
       "      <th>1</th>\n",
       "      <td>MomForAMinute</td>\n",
       "      <td>M4aMmod</td>\n",
       "      <td>Moderator</td>\n",
       "      <td>1.664659e+09</td>\n",
       "      <td>rb_4798gpo</td>\n",
       "      <td>t2_szqyvv40</td>\n",
       "      <td>None</td>\n",
       "    </tr>\n",
       "    <tr>\n",
       "      <th>2</th>\n",
       "      <td>MomForAMinute</td>\n",
       "      <td>Jaz_the_Nagai</td>\n",
       "      <td>Cool Big Bro</td>\n",
       "      <td>1.672511e+09</td>\n",
       "      <td>rb_4hlfg1z</td>\n",
       "      <td>t2_iu6fw</td>\n",
       "      <td>w</td>\n",
       "    </tr>\n",
       "    <tr>\n",
       "      <th>3</th>\n",
       "      <td>MomForAMinute</td>\n",
       "      <td>Chengweiyingji</td>\n",
       "      <td>Duckling</td>\n",
       "      <td>1.672511e+09</td>\n",
       "      <td>rb_4hlfmiu</td>\n",
       "      <td>t2_qx07f</td>\n",
       "      <td>y</td>\n",
       "    </tr>\n",
       "    <tr>\n",
       "      <th>4</th>\n",
       "      <td>GetMotivated</td>\n",
       "      <td>carlinha1289</td>\n",
       "      <td>your lil' ray of sunshine</td>\n",
       "      <td>1.404412e+09</td>\n",
       "      <td>rb_6boo3i</td>\n",
       "      <td>t2_5i7ml</td>\n",
       "      <td>S1</td>\n",
       "    </tr>\n",
       "  </tbody>\n",
       "</table>\n",
       "</div>"
      ],
      "text/plain": [
       "       subreddit            name          author_flair_text          date  \\\n",
       "0  MomForAMinute    closingbelle           Mother Goose Mod  1.542317e+09   \n",
       "1  MomForAMinute         M4aMmod                  Moderator  1.664659e+09   \n",
       "2  MomForAMinute   Jaz_the_Nagai               Cool Big Bro  1.672511e+09   \n",
       "3  MomForAMinute  Chengweiyingji                   Duckling  1.672511e+09   \n",
       "4   GetMotivated    carlinha1289  your lil' ray of sunshine  1.404412e+09   \n",
       "\n",
       "       rel_id           id author_flair_css_class  \n",
       "0  rb_12k6r1s    t2_16shrg                      z  \n",
       "1  rb_4798gpo  t2_szqyvv40                   None  \n",
       "2  rb_4hlfg1z     t2_iu6fw                      w  \n",
       "3  rb_4hlfmiu     t2_qx07f                      y  \n",
       "4   rb_6boo3i     t2_5i7ml                     S1  "
      ]
     },
     "execution_count": 58,
     "metadata": {},
     "output_type": "execute_result"
    }
   ],
   "source": [
    "import json\n",
    "\n",
    "# read the JSON data from file\n",
    "with open('data/list_of_moderators.json') as f:\n",
    "    json_data = json.load(f)\n",
    "\n",
    "# process the JSON data to pandas dataframe\n",
    "df = process_json_to_df(json_data)\n",
    "\n",
    "# print shape of the dataframe\n",
    "print(df.shape)\n",
    "\n",
    "# print the dataframe\n",
    "df.head()"
   ]
  },
  {
   "cell_type": "code",
   "execution_count": 48,
   "metadata": {},
   "outputs": [
    {
     "name": "stdout",
     "output_type": "stream",
     "text": [
      "subreddit                 17\n",
      "name                      17\n",
      "author_flair_text         25\n",
      "date                      12\n",
      "rel_id                    10\n",
      "id                        11\n",
      "author_flair_css_class     7\n",
      "dtype: int64\n"
     ]
    }
   ],
   "source": [
    "# find the maximum length of characters in each column\n",
    "max_len = df.applymap(lambda x: len(str(x))).max()\n",
    "\n",
    "# print the result\n",
    "print(max_len)"
   ]
  },
  {
   "cell_type": "code",
   "execution_count": 54,
   "metadata": {},
   "outputs": [],
   "source": [
    "def insert_data(table_name, column_names, data):\n",
    "    \"\"\"\n",
    "    Inserts data into a PostgreSQL database table.\n",
    "\n",
    "    Args:\n",
    "        table_name (str): Name of the table to insert data into.\n",
    "        column_names (list): List of column names in the table to insert data into.\n",
    "        data (list): List of tuples containing data to insert. Each tuple corresponds to a row in the table.\n",
    "\n",
    "    Returns:\n",
    "        None\n",
    "    \"\"\"\n",
    "\n",
    "    # Create a connection to the database\n",
    "    conn = get_db_connection(\"scr/config.ini\")\n",
    "    cur = conn.cursor()\n",
    "\n",
    "    # Create the insert query using parameterized queries\n",
    "    insert_query = f\"INSERT INTO {table_name} ({', '.join(column_names)}) VALUES ({', '.join(['%s']*len(column_names))})\"\n",
    "\n",
    "    # Execute the insert query\n",
    "    cur.executemany(insert_query, data)\n",
    "    conn.commit()\n",
    "    cur.close()\n",
    "    conn.close()"
   ]
  },
  {
   "cell_type": "code",
   "execution_count": 55,
   "metadata": {},
   "outputs": [],
   "source": [
    "def dataframe_to_tuples(df):\n",
    "    \"\"\"Converts a Pandas DataFrame to a list of tuples.\n",
    "\n",
    "    Args:\n",
    "        df (pandas.DataFrame): The input DataFrame.\n",
    "\n",
    "    Returns:\n",
    "        A tuple containing a list of column names and a list of tuples representing the data.\n",
    "    \"\"\"\n",
    "    columns = list(df.columns)\n",
    "    data = [tuple(row) for row in df.values.tolist()]\n",
    "\n",
    "    return columns, data"
   ]
  },
  {
   "cell_type": "code",
   "execution_count": 56,
   "metadata": {},
   "outputs": [
    {
     "name": "stdout",
     "output_type": "stream",
     "text": [
      "['subreddit', 'name', 'author_flair_text', 'date', 'rel_id', 'id', 'author_flair_css_class']\n",
      "[('MomForAMinute', 'closingbelle', 'Mother Goose Mod', 1542317451.0, 'rb_12k6r1s', 't2_16shrg', 'z'), ('MomForAMinute', 'M4aMmod', 'Moderator', 1664659377.0, 'rb_4798gpo', 't2_szqyvv40', None), ('MomForAMinute', 'Jaz_the_Nagai', 'Cool Big Bro', 1672510982.0, 'rb_4hlfg1z', 't2_iu6fw', 'w'), ('MomForAMinute', 'Chengweiyingji', 'Duckling', 1672511088.0, 'rb_4hlfmiu', 't2_qx07f', 'y'), ('GetMotivated', 'carlinha1289', \"your lil' ray of sunshine\", 1404411814.0, 'rb_6boo3i', 't2_5i7ml', 'S1'), ('GetMotivated', 'mungoflago', 'Mod', 1455845973.0, 'rb_eamgyj', 't2_9vgfz', 'blank'), ('GetMotivated', 'AutoModerator', None, 1493312605.0, 'rb_o4zdnx', 't2_6l4z3', None), ('GetMotivated', 'SEO_Nuke', None, 1493312626.0, 'rb_o4zdyy', 't2_unwh5', None), ('GetMotivated', 'davidreiss666', 'Mod', 1569545427.0, 'rb_1ivyc2v', 't2_pfn1', 'blank'), ('GetMotivated', 'BotDefense', None, 1650922811.0, 'rb_3pxyqnt', 't2_52xgokub', None), ('GetMotivated', 'just-a-traveler', '', 1655138875.0, 'rb_3v46u1k', 't2_xlz49', 'StarN2'), ('GetMotivated', 'Chasith', 'Mod', 1664987543.0, 'rb_47okr6s', 't2_4m6zl423', None), ('GetMotivated', 'Phooey640', None, 1674646002.0, 'rb_4kh0x66', 't2_iba1n', None), ('GetMotivated', 'Merari01', None, 1676567094.0, 'rb_4mwnzuq', 't2_e31p0', None), ('helpmecope', 'irtherapist', None, 1412059003.0, 'rb_7eb6ac', 't2_aq52l', None), ('helpmecope', 'CottonCandyTacos', None, 1414611884.0, 'rb_7rs436', 't2_i2jvf', None), ('helpmecope', 'LucsterYT', None, 1479181006.0, 'rb_jtndfc', 't2_zzwjd', None), ('helpmecope', 'TranZeitgeist', None, 1649337509.0, 'rb_3nvj7n0', 't2_2gizkack', None), ('helpmecope', 'BotDefense', None, 1649361492.0, 'rb_3nwvy7a', 't2_52xgokub', None), ('helpmecope', 'AutoModerator', None, 1668793260.0, 'rb_4cmhm58', 't2_6l4z3', None), ('helpmecope', 'SimHuman', None, 1675759166.0, 'rb_4lwa35g', 't2_fplxs', None), ('needadvice', 'bluequail', None, 1274977745.0, 'rb_5otti', 't2_32jxy', None), ('needadvice', 'LevyWife', None, 1482986039.0, 'rb_kwmphs', 't2_c1ktm', None), ('needadvice', 'SmarterRobot', None, 1673899033.0, 'rb_4jhzpr0', 't2_vjk1mwsj', None), ('needadvice', 'WithoutReason1729', None, 1673914784.0, 'rb_4jiw03z', 't2_k5hf12m4', None), ('rapecounseling', 'Pepperspray24', None, 1590102331.0, 'rb_1xem0k9', 't2_2xvd7w3h', None), ('rapecounseling', 'ChildTherapist', 'LeadMod', 1640739764.0, 'rb_3d3zlow', 't2_8jckg', 'LeadMod'), ('rapecounseling', 'noseykeyser', None, 1657840744.0, 'rb_3yjpipg', 't2_5flx79x1', None), ('whatsbotheringyou', 'james9075', 'PM me!', 1374002484.0, 'rb_3j8awz', 't2_6hedr', ''), ('whatsbotheringyou', 'The1RGood', 'PM me!', 1374002685.0, 'rb_3j8bkc', 't2_5rhqw', ''), ('whatsbotheringyou', 'joshguillen', 'PM me', 1374025607.0, 'rb_3jauk6', 't2_a93pc', 'blue'), ('whatsbotheringyou', 'apstra', 'PM me!', 1375902182.0, 'rb_3ompgu', 't2_93k24', '')]\n"
     ]
    }
   ],
   "source": [
    "# Convert the DataFrame to a list of tuples\n",
    "column_names, data = dataframe_to_tuples(df)\n",
    "\n",
    "# Print the column names and data\n",
    "print(column_names)\n",
    "print(data)"
   ]
  },
  {
   "cell_type": "code",
   "execution_count": 57,
   "metadata": {},
   "outputs": [],
   "source": [
    "table_name = \"subreddit_moderators_l0\"\n",
    "insert_data(table_name, column_names, data)"
   ]
  },
  {
   "cell_type": "code",
   "execution_count": null,
   "metadata": {},
   "outputs": [],
   "source": []
  }
 ],
 "metadata": {
  "kernelspec": {
   "display_name": "base",
   "language": "python",
   "name": "python3"
  },
  "language_info": {
   "codemirror_mode": {
    "name": "ipython",
    "version": 3
   },
   "file_extension": ".py",
   "mimetype": "text/x-python",
   "name": "python",
   "nbconvert_exporter": "python",
   "pygments_lexer": "ipython3",
   "version": "3.9.7"
  },
  "orig_nbformat": 4,
  "vscode": {
   "interpreter": {
    "hash": "25f291af9cc96aa992e7f01dfa5a310ec565b020d8d9b56cd755e29d17098662"
   }
  }
 },
 "nbformat": 4,
 "nbformat_minor": 2
}
